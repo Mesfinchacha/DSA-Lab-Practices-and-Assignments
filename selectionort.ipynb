{
 "cells": [
  {
   "cell_type": "markdown",
   "id": "709b8311",
   "metadata": {},
   "source": []
  },
  {
   "cell_type": "markdown",
   "id": "1ca1ba3f",
   "metadata": {},
   "source": [
    "## _Selection **Sorting** algorithm Explanation_\n",
    "\n",
    "- This algorithm sorts an array by repeatedly finding the minimum element.\n",
    "- Time complexity: O(n²)\n"
   ]
  },
  {
   "cell_type": "code",
   "execution_count": 8,
   "id": "99e8c48c",
   "metadata": {},
   "outputs": [
    {
     "name": "stdout",
     "output_type": "stream",
     "text": [
      "Sorted array: [10, 18, 19, 23, 32, 36, 54, 55, 56, 85, 92, 96]\n"
     ]
    }
   ],
   "source": [
    "arr = [36, 18, 92, 96, 10, 85, 32, 23, 54, 56, 55, 19]\n",
    "for i in range(len(arr) - 1):\n",
    "    min_index = i\n",
    "    for j in range(i + 1, len(arr)):\n",
    "        if arr[j] < arr[min_index]:\n",
    "            min_index = j\n",
    "    arr[i], arr[min_index] = arr[min_index], arr[i]\n",
    "print(\"Sorted array:\", arr)\n"
   ]
  }
 ],
 "metadata": {
  "kernelspec": {
   "display_name": "Python 3",
   "language": "python",
   "name": "python3"
  },
  "language_info": {
   "codemirror_mode": {
    "name": "ipython",
    "version": 3
   },
   "file_extension": ".py",
   "mimetype": "text/x-python",
   "name": "python",
   "nbconvert_exporter": "python",
   "pygments_lexer": "ipython3",
   "version": "3.13.0"
  }
 },
 "nbformat": 4,
 "nbformat_minor": 5
}
